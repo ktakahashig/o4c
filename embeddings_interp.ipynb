{
 "cells": [
  {
   "cell_type": "code",
   "execution_count": 1,
   "id": "cbd7e7f7-a6e5-4bee-8f90-90b8fa896b1d",
   "metadata": {},
   "outputs": [],
   "source": [
    "import pandas as pd\n",
    "import requests\n",
    "import os\n",
    "import openai\n",
    "import o4c"
   ]
  },
  {
   "cell_type": "code",
   "execution_count": 2,
   "id": "52137dbf-568c-46d2-8e82-2109e9e1d508",
   "metadata": {},
   "outputs": [],
   "source": [
    "import warnings\n",
    "warnings.filterwarnings(\"ignore\")"
   ]
  },
  {
   "cell_type": "code",
   "execution_count": 3,
   "id": "b1bc434c-bce0-4ee2-9361-c80c3e48cd39",
   "metadata": {},
   "outputs": [],
   "source": [
    "# Leer la llave para el API de OpenAI\n",
    "with open('/Users/ken/.openai.key') as f:\n",
    "    openai.api_key  = f.read().rstrip() "
   ]
  },
  {
   "cell_type": "markdown",
   "id": "493bbc36-2e01-44b0-892b-69098ecc597a",
   "metadata": {},
   "source": [
    "## 1. Obtener interpretaciones, sus resúmenes y sus embeddings"
   ]
  },
  {
   "cell_type": "code",
   "execution_count": 4,
   "id": "1b4e9605-4526-42ac-8043-54819b68e35e",
   "metadata": {},
   "outputs": [],
   "source": [
    "interpretaciones_raw = 'Interpretaciones O4C (Respuestas) - Respuestas de formulario 1.csv'\n",
    "interpretaciones_embed = 'interpretaciones_embeddings.csv'\n",
    "interpretaciones_resumidas='interpretaciones_resumidas.csv'\n",
    "\n",
    "# Si el archivo \"crudo\" es más reciente, reprocesar\n",
    "if os.path.getmtime(interpretaciones_embed) > os.path.getmtime(interpretaciones_raw):\n",
    "    if os.path.getmtime(interpretaciones_resumidas) > os.path.getmtime(interpretaciones_embed):\n",
    "        interpretaciones = pd.read_csv(interpretaciones_resumidas)\n",
    "        import ast\n",
    "        interpretaciones['embeddings']=interpretaciones.embeddings.apply(\n",
    "            lambda s: list(ast.literal_eval(s)))\n",
    "    else:\n",
    "        # Leer archivo con embeddings\n",
    "        interpretaciones = pd.read_csv(interpretaciones_embed)\n",
    "        import ast\n",
    "        interpretaciones['embeddings']=interpretaciones.embeddings.apply(\n",
    "            lambda s: list(ast.literal_eval(s)))\n",
    "        # Resumir \n",
    "        interpretaciones = o4c.get_interpretaciones_resumidas(interpretaciones,max_char = 800)\n",
    "        interpretaciones.to_csv(interpretaciones_resumidas)\n",
    "else:\n",
    "    # Leer el archivo descargado de google\n",
    "    interpretaciones = o4c.leer_interpretaciones(interpretaciones_raw)\n",
    "    # Obtener las referencias de crossref\n",
    "    interpretaciones[['Referencia','Año','Título']] = interpretaciones['DOI'].apply( \n",
    "        lambda x: pd.Series(o4c.get_reference(x))) \n",
    "    # Calcular los embeddings usando ADA 0002\n",
    "    interpretaciones = o4c.get_embed_interpretaciones(interpretaciones)\n",
    "    # Resumir \n",
    "    interpretaciones = o4c.get_interpretaciones_resumidas(interpretaciones,max_char = 800)\n",
    "    interpretaciones.to_csv(interpretaciones_resumidas)"
   ]
  },
  {
   "cell_type": "code",
   "execution_count": null,
   "id": "e2c70b49-6445-4e2c-b81b-6c07a06c1946",
   "metadata": {},
   "outputs": [],
   "source": []
  }
 ],
 "metadata": {
  "kernelspec": {
   "display_name": "Python 3 (ipykernel)",
   "language": "python",
   "name": "python3"
  },
  "language_info": {
   "codemirror_mode": {
    "name": "ipython",
    "version": 3
   },
   "file_extension": ".py",
   "mimetype": "text/x-python",
   "name": "python",
   "nbconvert_exporter": "python",
   "pygments_lexer": "ipython3",
   "version": "3.9.7"
  }
 },
 "nbformat": 4,
 "nbformat_minor": 5
}
